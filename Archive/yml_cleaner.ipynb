{
 "cells": [
  {
   "cell_type": "markdown",
   "metadata": {},
   "source": [
    "# For Cross-Platform Compatibility (being Portable)"
   ]
  },
  {
   "cell_type": "markdown",
   "metadata": {},
   "source": [
    "## code"
   ]
  },
  {
   "cell_type": "code",
   "execution_count": 1,
   "metadata": {},
   "outputs": [
    {
     "name": "stdout",
     "output_type": "stream",
     "text": [
      "Cleaning backup_environment.yml...\n",
      "Validating critical dependencies...\n",
      "Cleaned environment written to cleaned_environment.yml.\n"
     ]
    }
   ],
   "source": [
    "# Load the environment.yml file\n",
    "input_file = \"backup_environment.yml\"\n",
    "output_file = \"cleaned_environment.yml\"\n",
    "\n",
    "# Define low-level libraries to exclude\n",
    "low_level_dependencies = [\n",
    "    \"_libgcc_mutex\", \"_openmp_mutex\", \"libgcc-ng\", \"libstdcxx-ng\", \"ld_impl_linux-64\",\n",
    "    \"zlib\", \"xz\", \"yaml\", \"libgomp\", \"ca-certificates\", \"openssl\", \"bzip2\",\n",
    "    \"ncurses\", \"readline\", \"tk\", \"libffi\", \"libuuid\"\n",
    "]\n",
    "\n",
    "# Critical dependencies to ensure are present\n",
    "required_dependencies = [\"python\"]\n",
    "\n",
    "# Clean the environment.yml file\n",
    "print(f\"Cleaning {input_file}...\")\n",
    "with open(input_file, \"r\") as infile, open(output_file, \"w\") as outfile:\n",
    "    outfile.write(\"# Cleaned environment.yml\\n\")\n",
    "    outfile.write(\"# Low-level dependencies and prefix removed for portability.\\n\\n\")\n",
    "    for line in infile:\n",
    "        # Skip low-level dependencies, prefix, or empty lines\n",
    "        if any(dep in line for dep in low_level_dependencies) or line.startswith(\"prefix:\") or line.strip() == \"\":\n",
    "            continue\n",
    "        outfile.write(line)\n",
    "\n",
    "# Validate critical dependencies\n",
    "print(\"Validating critical dependencies...\")\n",
    "with open(output_file, \"r\") as f:\n",
    "    content = f.read()\n",
    "    for dep in required_dependencies:\n",
    "        if dep not in content:\n",
    "            raise ValueError(f\"Critical dependency '{dep}' is missing in the cleaned environment.yml!\")\n",
    "\n",
    "print(f\"Cleaned environment written to {output_file}.\")\n"
   ]
  },
  {
   "cell_type": "markdown",
   "metadata": {},
   "source": [
    "**Next Steps**    \n",
    "1. Run the script on the `backup_environment.yml` file.\n",
    "2. Test the resulting `cleaned_environment.yml`:    \n",
    "`conda env create -f cleaned_environment.yml`\n",
    "3. If it works without issues, your file is ready to share!"
   ]
  },
  {
   "cell_type": "markdown",
   "metadata": {},
   "source": [
    "## Key Principles"
   ]
  },
  {
   "cell_type": "markdown",
   "metadata": {},
   "source": [
    "Since your goal is to share the repo and ensure it works on all OS, the low-level libraries must not be included. Conda will handle the necessary platform-specific dependencies automatically.\n",
    "\n",
    "1. **Remove Low-Level, Platform-Specific Libraries**:\n",
    "\n",
    "    - Libraries like `_libgcc_mutex`, `libstdcxx-ng`, and `libgomp` should not be included because they are platform-specific.\n",
    "\n",
    "    - Conda will handle these automatically based on the OS during environment creation.\n",
    "\n",
    "2. **Always explicitly include pip in the `environment.yml`**\n",
    "\n",
    "    - If You Don't Need a Specific Version:    \n",
    "        `dependencies:`    \n",
    "            `- python=3.10`       \n",
    "            `- pip`       \n",
    "        \n",
    "    - If You Need a Specific Version:    \n",
    "        `dependencies:`    \n",
    "            `- python=3.10`       \n",
    "            `- pip=23.1.2`    \n",
    "\n",
    "3. **Remove prefix line**\n",
    "\n",
    "    - The prefix line at the bottom specifies the exact directory where the environment was originally created. This is not portable and can cause issues on other systems."
   ]
  },
  {
   "cell_type": "markdown",
   "metadata": {},
   "source": []
  }
 ],
 "metadata": {
  "kernelspec": {
   "display_name": "GenAI_Image_Tutorial",
   "language": "python",
   "name": "python3"
  },
  "language_info": {
   "codemirror_mode": {
    "name": "ipython",
    "version": 3
   },
   "file_extension": ".py",
   "mimetype": "text/x-python",
   "name": "python",
   "nbconvert_exporter": "python",
   "pygments_lexer": "ipython3",
   "version": "3.10.14"
  }
 },
 "nbformat": 4,
 "nbformat_minor": 2
}
