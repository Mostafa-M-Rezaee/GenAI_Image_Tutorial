{
 "cells": [
  {
   "cell_type": "code",
   "execution_count": 2,
   "id": "0ed081d0-e17d-4e3a-8c05-4a6d62be9f79",
   "metadata": {
    "tags": []
   },
   "outputs": [
    {
     "name": "stderr",
     "output_type": "stream",
     "text": [
      "/users/PCS0229/imankhazrak/miniconda3/envs/ddpm_pytorch/lib/python3.10/site-packages/tqdm/auto.py:21: TqdmWarning: IProgress not found. Please update jupyter and ipywidgets. See https://ipywidgets.readthedocs.io/en/stable/user_install.html\n",
      "  from .autonotebook import tqdm as notebook_tqdm\n"
     ]
    }
   ],
   "source": [
    "import pytorch_fid.fid_score as fid\n",
    "import os\n",
    "path_dir = os.getcwd()"
   ]
  },
  {
   "cell_type": "markdown",
   "id": "e0c59043-2c59-492e-87a0-974605aa76d2",
   "metadata": {},
   "source": [
    "# Train on all Test on Random Data"
   ]
  },
  {
   "cell_type": "code",
   "execution_count": 7,
   "id": "d544e476-ee06-4120-be36-148e71291af4",
   "metadata": {},
   "outputs": [],
   "source": [
    "dataset_dir_org = f'{path_dir}/Archive/Dataset/All_Data'\n",
    "dataset_dir_ddpm_rand = f'{path_dir}/Balanced_Data/Random_Images/DDPM'\n",
    "dataset_dir_pggans150_rand = f'{path_dir}/Balanced_Data/Random_Images/PGGANS150'\n",
    "dataset_dir_pggans160_rand = f'{path_dir}/Balanced_Data/Random_Images/PGGANS160'\n"
   ]
  },
  {
   "cell_type": "code",
   "execution_count": 15,
   "id": "5e05f2c6-6053-42fd-8483-d1600d686c42",
   "metadata": {},
   "outputs": [
    {
     "name": "stderr",
     "output_type": "stream",
     "text": [
      "Resizing images in /users/PCS0229/imankhazrak/Classification/Archive/Dataset/All_Data/NORMAL: 100%|██████████| 1802/1802 [00:38<00:00, 46.96it/s]\n",
      "Resizing images in /users/PCS0229/imankhazrak/Classification/Archive/Dataset/All_Data/PNEUMONIA: 100%|██████████| 1800/1800 [00:36<00:00, 48.67it/s]\n",
      "Resizing images in /users/PCS0229/imankhazrak/Classification/Balanced_Data/Random_Images/DDPM/NORMAL: 100%|██████████| 1900/1900 [00:48<00:00, 39.46it/s]\n",
      "Resizing images in /users/PCS0229/imankhazrak/Classification/Balanced_Data/Random_Images/DDPM/PNEUMONIA: 100%|██████████| 2000/2000 [00:47<00:00, 41.75it/s]\n",
      "Resizing images in /users/PCS0229/imankhazrak/Classification/Balanced_Data/Random_Images/PGGANS160/NORMAL: 100%|██████████| 2000/2000 [00:52<00:00, 38.27it/s]\n",
      "Resizing images in /users/PCS0229/imankhazrak/Classification/Balanced_Data/Random_Images/PGGANS160/PNEUMONIA: 100%|██████████| 2000/2000 [00:49<00:00, 40.41it/s]\n",
      "Resizing images in /users/PCS0229/imankhazrak/Classification/Balanced_Data/Selected_Images/DDPM/NORMAL: 100%|██████████| 2000/2000 [00:55<00:00, 36.28it/s]\n",
      "Resizing images in /users/PCS0229/imankhazrak/Classification/Balanced_Data/Selected_Images/DDPM/PNEUMONIA: 100%|██████████| 2000/2000 [00:53<00:00, 37.26it/s]\n",
      "Resizing images in /users/PCS0229/imankhazrak/Classification/Balanced_Data/Selected_Images/PGGANS160/NORMAL: 100%|██████████| 2000/2000 [01:15<00:00, 26.65it/s]\n",
      "Resizing images in /users/PCS0229/imankhazrak/Classification/Balanced_Data/Selected_Images/PGGANS160/PNEUMONIA: 100%|██████████| 2000/2000 [01:27<00:00, 22.98it/s]\n"
     ]
    }
   ],
   "source": [
    "from PIL import Image\n",
    "import os\n",
    "from tqdm import tqdm\n",
    "\n",
    "def resize_images_in_directory(input_dir, output_dir, size=(256, 256)):\n",
    "    os.makedirs(output_dir, exist_ok=True)\n",
    "    image_paths = [os.path.join(input_dir, img) for img in os.listdir(input_dir) if img.endswith(('png', 'jpg', 'jpeg'))]\n",
    "    \n",
    "    for img_path in tqdm(image_paths, desc=f\"Resizing images in {input_dir}\"):\n",
    "        img = Image.open(img_path).convert('RGB')\n",
    "        img = img.resize(size, Image.Resampling.LANCZOS)  # Updated to use LANCZOS resampling\n",
    "        img.save(os.path.join(output_dir, os.path.basename(img_path)))\n",
    "\n",
    "# Example usage\n",
    "resize_images_in_directory(orig_norm, f'{path_dir}/resized/All_Data/NORMAL')\n",
    "resize_images_in_directory(orig_pneum, f'{path_dir}/resized/All_Data/PNEUMONIA')\n",
    "resize_images_in_directory(random_ddpm_norm, f'{path_dir}/resized/Random_Images/DDPM/NORMAL')\n",
    "resize_images_in_directory(random_ddpm_pneum, f'{path_dir}/resized/Random_Images/DDPM/PNEUMONIA')\n",
    "resize_images_in_directory(random_pggan_norm, f'{path_dir}/resized/Random_Images/PGGANS160/NORMAL')\n",
    "resize_images_in_directory(random_pggan_pneum, f'{path_dir}/resized/Random_Images/PGGANS160/PNEUMONIA')\n",
    "resize_images_in_directory(k_ddpm_norm, f'{path_dir}/resized/Selected_Images/DDPM/NORMAL')\n",
    "resize_images_in_directory(k_ddpm_pneum, f'{path_dir}/resized/Selected_Images/DDPM/PNEUMONIA')\n",
    "resize_images_in_directory(k_pggan_norm, f'{path_dir}/resized/Selected_Images/PGGANS160/NORMAL')\n",
    "resize_images_in_directory(k_pggan_pneum, f'{path_dir}/resized/Selected_Images/PGGANS160/PNEUMONIA')\n"
   ]
  },
  {
   "cell_type": "code",
   "execution_count": 16,
   "id": "158fb48f-87ec-45f9-8e64-387090f2b8ac",
   "metadata": {},
   "outputs": [
    {
     "name": "stdout",
     "output_type": "stream",
     "text": [
      "Comparing /users/PCS0229/imankhazrak/Classification/resized/All_Data/NORMAL with /users/PCS0229/imankhazrak/Classification/resized/Random_Images/DDPM/NORMAL\n",
      "\n"
     ]
    },
    {
     "name": "stderr",
     "output_type": "stream",
     "text": [
      "100%|██████████| 37/37 [00:22<00:00,  1.66it/s]\n",
      "100%|██████████| 38/38 [00:24<00:00,  1.53it/s]\n"
     ]
    },
    {
     "name": "stdout",
     "output_type": "stream",
     "text": [
      "Comparing /users/PCS0229/imankhazrak/Classification/resized/All_Data/PNEUMONIA with /users/PCS0229/imankhazrak/Classification/resized/Random_Images/DDPM/PNEUMONIA\n",
      "\n"
     ]
    },
    {
     "name": "stderr",
     "output_type": "stream",
     "text": [
      "100%|██████████| 36/36 [00:23<00:00,  1.51it/s]\n",
      "100%|██████████| 40/40 [00:25<00:00,  1.59it/s]\n"
     ]
    },
    {
     "name": "stdout",
     "output_type": "stream",
     "text": [
      "Comparing /users/PCS0229/imankhazrak/Classification/resized/All_Data/NORMAL with /users/PCS0229/imankhazrak/Classification/resized/Random_Images/PGGANS160/NORMAL\n",
      "\n"
     ]
    },
    {
     "name": "stderr",
     "output_type": "stream",
     "text": [
      "100%|██████████| 37/37 [00:23<00:00,  1.54it/s]\n",
      "100%|██████████| 40/40 [00:26<00:00,  1.50it/s]\n"
     ]
    },
    {
     "name": "stdout",
     "output_type": "stream",
     "text": [
      "Comparing /users/PCS0229/imankhazrak/Classification/resized/All_Data/PNEUMONIA with /users/PCS0229/imankhazrak/Classification/resized/Random_Images/PGGANS160/PNEUMONIA\n",
      "\n"
     ]
    },
    {
     "name": "stderr",
     "output_type": "stream",
     "text": [
      "100%|██████████| 36/36 [00:25<00:00,  1.42it/s]\n",
      "100%|██████████| 40/40 [00:25<00:00,  1.57it/s]\n"
     ]
    },
    {
     "name": "stdout",
     "output_type": "stream",
     "text": [
      "Comparing /users/PCS0229/imankhazrak/Classification/resized/All_Data/NORMAL with /users/PCS0229/imankhazrak/Classification/resized/Selected_Images/DDPM/NORMAL\n",
      "\n"
     ]
    },
    {
     "name": "stderr",
     "output_type": "stream",
     "text": [
      "100%|██████████| 37/37 [00:23<00:00,  1.59it/s]\n",
      "100%|██████████| 40/40 [00:27<00:00,  1.46it/s]\n"
     ]
    },
    {
     "name": "stdout",
     "output_type": "stream",
     "text": [
      "Comparing /users/PCS0229/imankhazrak/Classification/resized/All_Data/PNEUMONIA with /users/PCS0229/imankhazrak/Classification/resized/Selected_Images/DDPM/PNEUMONIA\n",
      "\n"
     ]
    },
    {
     "name": "stderr",
     "output_type": "stream",
     "text": [
      "100%|██████████| 36/36 [00:23<00:00,  1.56it/s]\n",
      "100%|██████████| 40/40 [00:25<00:00,  1.56it/s]\n"
     ]
    },
    {
     "name": "stdout",
     "output_type": "stream",
     "text": [
      "Comparing /users/PCS0229/imankhazrak/Classification/resized/All_Data/NORMAL with /users/PCS0229/imankhazrak/Classification/resized/Selected_Images/PGGANS160/NORMAL\n",
      "\n"
     ]
    },
    {
     "name": "stderr",
     "output_type": "stream",
     "text": [
      "100%|██████████| 37/37 [00:22<00:00,  1.68it/s]\n",
      "100%|██████████| 40/40 [00:25<00:00,  1.56it/s]\n"
     ]
    },
    {
     "name": "stdout",
     "output_type": "stream",
     "text": [
      "Comparing /users/PCS0229/imankhazrak/Classification/resized/All_Data/PNEUMONIA with /users/PCS0229/imankhazrak/Classification/resized/Selected_Images/PGGANS160/PNEUMONIA\n",
      "\n"
     ]
    },
    {
     "name": "stderr",
     "output_type": "stream",
     "text": [
      "100%|██████████| 36/36 [00:22<00:00,  1.61it/s]\n",
      "100%|██████████| 40/40 [00:26<00:00,  1.52it/s]\n"
     ]
    }
   ],
   "source": [
    "import pytorch_fid.fid_score as fid\n",
    "import torch\n",
    "import os\n",
    "\n",
    "# Detect if CUDA is available\n",
    "device = 'cuda' if torch.cuda.is_available() else 'cpu'\n",
    "# Updated paths to resized images\n",
    "resized_orig_norm = f'{path_dir}/resized/All_Data/NORMAL'\n",
    "resized_orig_pneum = f'{path_dir}/resized/All_Data/PNEUMONIA'\n",
    "resized_random_ddpm_norm = f'{path_dir}/resized/Random_Images/DDPM/NORMAL'\n",
    "resized_random_ddpm_pneum = f'{path_dir}/resized/Random_Images/DDPM/PNEUMONIA'\n",
    "resized_random_pggan_norm = f'{path_dir}/resized/Random_Images/PGGANS160/NORMAL'\n",
    "resized_random_pggan_pneum = f'{path_dir}/resized/Random_Images/PGGANS160/PNEUMONIA'\n",
    "resized_k_ddpm_norm = f'{path_dir}/resized/Selected_Images/DDPM/NORMAL'\n",
    "resized_k_ddpm_pneum = f'{path_dir}/resized/Selected_Images/DDPM/PNEUMONIA'\n",
    "resized_k_pggan_norm = f'{path_dir}/resized/Selected_Images/PGGANS160/NORMAL'\n",
    "resized_k_pggan_pneum = f'{path_dir}/resized/Selected_Images/PGGANS160/PNEUMONIA'\n",
    "\n",
    "# Function to run FID comparisons and log the output\n",
    "def run_fid_comparison(reference, generated, log_file, device):\n",
    "    comparison_message = f\"Comparing {reference} with {generated}\\n\"\n",
    "    print(comparison_message)\n",
    "    with open(log_file, 'a') as f:\n",
    "        f.write(comparison_message)\n",
    "    \n",
    "    # Calculate FID score using resized image directories\n",
    "    fid_value = fid.calculate_fid_given_paths([reference, generated], batch_size=50, device=device, dims=2048)\n",
    "    \n",
    "    # Log the FID score\n",
    "    with open(log_file, 'a') as f:\n",
    "        f.write(f\"FID Score: {fid_value}\\n\")\n",
    "\n",
    "# Running the comparisons with resized directories\n",
    "run_fid_comparison(resized_orig_norm, resized_random_ddpm_norm, log_file, device)\n",
    "run_fid_comparison(resized_orig_pneum, resized_random_ddpm_pneum, log_file, device)\n",
    "run_fid_comparison(resized_orig_norm, resized_random_pggan_norm, log_file, device)\n",
    "run_fid_comparison(resized_orig_pneum, resized_random_pggan_pneum, log_file, device)\n",
    "run_fid_comparison(resized_orig_norm, resized_k_ddpm_norm, log_file, device)\n",
    "run_fid_comparison(resized_orig_pneum, resized_k_ddpm_pneum, log_file, device)\n",
    "run_fid_comparison(resized_orig_norm, resized_k_pggan_norm, log_file, device)\n",
    "run_fid_comparison(resized_orig_pneum, resized_k_pggan_pneum, log_file, device)\n"
   ]
  },
  {
   "cell_type": "code",
   "execution_count": null,
   "id": "3629445b-3719-4c39-b4bf-b5c90e6d93e1",
   "metadata": {},
   "outputs": [],
   "source": []
  }
 ],
 "metadata": {
  "kernelspec": {
   "display_name": "Python (ddpm_pytorch)",
   "language": "python",
   "name": "ddpm_pytorch"
  },
  "language_info": {
   "codemirror_mode": {
    "name": "ipython",
    "version": 3
   },
   "file_extension": ".py",
   "mimetype": "text/x-python",
   "name": "python",
   "nbconvert_exporter": "python",
   "pygments_lexer": "ipython3",
   "version": "3.10.14"
  }
 },
 "nbformat": 4,
 "nbformat_minor": 5
}
